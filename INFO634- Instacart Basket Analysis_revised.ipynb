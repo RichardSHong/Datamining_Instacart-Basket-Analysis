{
 "cells": [
  {
   "cell_type": "markdown",
   "metadata": {},
   "source": [
    "# <center>INFO 634 – Data Mining</center>\n",
    "## <center>Project Report</center>\n",
    "### <center>Instacart Basket Analysis</center>"
   ]
  },
  {
   "cell_type": "markdown",
   "metadata": {},
   "source": [
    "### Group Members:\n",
    "\n",
    "•\tHong, Richard - rh824@drexel.edu\n",
    "\n",
    "•\tNavuluru, Soujanya - sn863@drexel.edu\n",
    "\n",
    "•\tPulagam, Nandakishor Reddy - np689@drexel.edu\n",
    "\n",
    "•\tVelagapudi, Nirupam Kumar - nkv27@drexel.edu\n"
   ]
  },
  {
   "cell_type": "markdown",
   "metadata": {},
   "source": [
    "### Introduction:\n",
    "&nbsp;&nbsp;&nbsp;&nbsp;&nbsp;&nbsp;&nbsp;&nbsp;&nbsp;&nbsp;&nbsp;&nbsp;Market Basket Analysis is a technique used by online retailers to analyze the pattern of purchasing items. Here, we are using Instacart as our online retail store and understanding the customer's behavior while purchasing. This analysis helps us in suggesting similar items, related items which are already added in the cart. Options like \"frequently bought items\" and \"based on your purchase\" on Instacart our analysis would help identify these items.\n",
    "\n",
    "&nbsp;&nbsp;&nbsp;&nbsp;&nbsp;&nbsp;&nbsp;&nbsp;&nbsp;&nbsp;&nbsp;&nbsp;In this project, we would like to understand and assist Instacart in using the transactions data of their customer, analyze the retail items acquiring patterns like items or products which are bought together. We also would like to visualize the data to provide better recommendations, which will help increase the retailer's revenue and customer satisfaction.\n",
    "\n",
    "\n",
    "&nbsp;&nbsp;&nbsp;&nbsp;&nbsp;&nbsp;&nbsp;&nbsp;&nbsp;&nbsp;&nbsp;&nbsp;Our dataset has multiple files and variables which contain details about products, aisles, department, and customer orders. We also have a variable showing if the current product was previously ordered by the customer or showing us a timeline of the product purchase. Further, this project will help Instacart or any online retailers in personalizing user profiles with recommendations based on the analysis and increase customer experience and plan strategy for online retailers for high revenue.\n",
    "\n",
    "&nbsp;&nbsp;&nbsp;&nbsp;&nbsp;&nbsp;&nbsp;&nbsp;&nbsp;&nbsp;&nbsp;&nbsp; In today's era, the necessity for innovation over internet purchases is in high demand. As per Instacart, in 2017, there have been 3 million Instacart orders, which have increased in the following years. There are many types of research in progress to meet customers' expectations and their requirements. For proceeding with our project, understanding the transaction and order details of each customer is a must to increase the sales of similar products or products which are bought together. Mainly in retail stores, this could be acquired by understanding the pattern of purchases of the customer and finding out the related items with the help of items which are already bought and then to find the support, confidence and lift matrix for the item set to check which items have better metrics to proceed further.\n",
    "\n",
    "&nbsp;&nbsp;&nbsp;&nbsp;&nbsp;&nbsp;&nbsp;&nbsp;&nbsp;&nbsp;&nbsp;&nbsp;The data mining method which we have selected for our project is Algorithm Implementation. We are exploring methods like Data cleaning, Data integration, Data selection, Data transformation, Data mining, Pattern evaluation, Knowledge representation. We initially thought of evaluating the association patterns about the items being purchased using Apriori algorithm; however, we have decided to proceed with our own approach in building the apriori algorithm, which is very similar to ML Apriori algorithm in python.\n",
    "\n",
    "&nbsp;&nbsp;&nbsp;&nbsp;&nbsp;&nbsp;&nbsp;&nbsp;&nbsp;&nbsp;&nbsp;&nbsp;We have chosen our own approach as our dataset is huge, and MLxtend apriori algorithm is very slow to handle such large datasets. For us, this is a great learning and in-depth understanding of the functioning of Apriori algorithm. We have also observed that python generators are very efficient in handling large datasets, which leads us to recreate the Apriori algorithm logic using Python generators."
   ]
  },
  {
   "cell_type": "markdown",
   "metadata": {},
   "source": [
    "### Dataset and Insights:"
   ]
  },
  {
   "cell_type": "markdown",
   "metadata": {},
   "source": [
    "&nbsp;&nbsp;&nbsp;&nbsp;&nbsp;&nbsp;&nbsp;&nbsp;&nbsp;&nbsp;&nbsp;&nbsp;The dataset which we are using for the current project has been taken from the Kaggle website. The dataset consists of multiple files that are related to each other and contains customers' orders over time. The dataset contains more than 3 million grocery orders which have been ordered by more than 200,000 Instacart users. The details about each file and the attributes follow below. The link for the datset https://www.kaggle.com/c/instacart-market-basket-analysis/data\n",
    "\n",
    "&nbsp;&nbsp;&nbsp;&nbsp;&nbsp;&nbsp;&nbsp;&nbsp;&nbsp;&nbsp;&nbsp;&nbsp;A total of 4 datasets are used in this project, which contains information on customer orders and transaction details.\n",
    "\n",
    "##### Dataset 1: aisles.csv\n",
    "\n",
    "&nbsp;&nbsp;&nbsp;&nbsp;&nbsp;&nbsp;&nbsp;&nbsp;&nbsp;&nbsp;&nbsp;&nbsp;These files contain information based on the aisles in the Instacart website, using which the products will be organized. This dataset includes 134 Aisle IDs and their names.\n",
    "\n",
    "|  Variables    |Description       |\n",
    "|------|--------|\n",
    "|aisle_id     | Id of each aisles      |\n",
    "|aisle     | Describes the aisles in the retail stores     |\n",
    "\n",
    "\n",
    "##### Dataset 2: departments.csv\n",
    "\n",
    "&nbsp;&nbsp;&nbsp;&nbsp;&nbsp;&nbsp;&nbsp;&nbsp;&nbsp;&nbsp;&nbsp;&nbsp;This file contains information about the departments to which the products belong to and their respective IDs. This dataset contains 21 Department IDs and their names.\n",
    "\n",
    "|  Variables    |Description       |\n",
    "|------|--------|\n",
    "|department_id     | Each Deparment ID      |\n",
    "|department     | Describes the departments in the retail stores     |\n",
    "\n",
    "\n",
    "##### Dataset 3: products.csv\n",
    "\n",
    "&nbsp;&nbsp;&nbsp;&nbsp;&nbsp;&nbsp;&nbsp;&nbsp;&nbsp;&nbsp;&nbsp;&nbsp;This file contains information about the products available in the Instacart and describes the product ID, product name, aisle, and departments. This dataset contains 49677 unique products and four attributes.\n",
    "\n",
    "\n",
    "|  Variables    |Description       |\n",
    "|------|--------|\n",
    "|product_id     | IDs of the products ordered by the customer    |\n",
    "|product_name     | Names of the products ordered by customer     |\n",
    "|aisle_id    | Describes to which Aisles the product belongs to      |\n",
    "|department_id     | Describes to which department the product belongs to  |\n",
    "\n",
    "\n",
    "##### Dataset 4: Order_Products_prior.csv\n",
    "\n",
    "&nbsp;&nbsp;&nbsp;&nbsp;&nbsp;&nbsp;&nbsp;&nbsp;&nbsp;&nbsp;&nbsp;&nbsp;This file contains information about the orders of the customers, products in the orders, if the item is added to cart and if the order has been ordered previously. This dataset contains 32434489 instances and four attributes.\n",
    "\n",
    "|  Variables    |Description       |\n",
    "|------|--------|\n",
    "|order_id     | IDs of the orders given by the customer    |\n",
    "|product_id     | IDs of the products ordered by customer     |\n",
    "|add_to_cart_order    | In which order the item has been added to cart      |\n",
    "|reordered     | If the Item has been ordered previously it is 1 if not 0     |"
   ]
  },
  {
   "cell_type": "code",
   "execution_count": 3,
   "metadata": {},
   "outputs": [],
   "source": [
    "# Importing modules required for the project\n",
    "\n",
    "import pandas as pd\n",
    "import numpy as np\n",
    "import sys\n",
    "from itertools import combinations, groupby\n",
    "from collections import Counter\n",
    "from IPython.display import display\n",
    "from scipy import stats\n",
    "import matplotlib.pyplot as plt\n",
    "import seaborn as sns\n",
    "\n",
    "from mlxtend.preprocessing import TransactionEncoder\n",
    "from mlxtend.frequent_patterns import apriori, association_rules"
   ]
  },
  {
   "cell_type": "markdown",
   "metadata": {},
   "source": [
    "###  Data Preprocessing and Data cleaning"
   ]
  },
  {
   "cell_type": "markdown",
   "metadata": {},
   "source": [
    "#### A. Load data"
   ]
  },
  {
   "cell_type": "code",
   "execution_count": 4,
   "metadata": {},
   "outputs": [],
   "source": [
    "orders = pd.read_csv('data/order_products__prior.csv')\n",
    "products = pd.read_csv('data/products.csv')"
   ]
  },
  {
   "cell_type": "markdown",
   "metadata": {},
   "source": [
    "#### B. General informations"
   ]
  },
  {
   "cell_type": "markdown",
   "metadata": {},
   "source": [
    "> About the orders data"
   ]
  },
  {
   "cell_type": "code",
   "execution_count": 5,
   "metadata": {},
   "outputs": [
    {
     "data": {
      "text/plain": [
       "(32434489, 4)"
      ]
     },
     "execution_count": 5,
     "metadata": {},
     "output_type": "execute_result"
    }
   ],
   "source": [
    "## print the dimension of the orders data\n",
    "orders.shape"
   ]
  },
  {
   "cell_type": "code",
   "execution_count": 6,
   "metadata": {
    "scrolled": true
   },
   "outputs": [
    {
     "name": "stdout",
     "output_type": "stream",
     "text": [
      "<class 'pandas.core.frame.DataFrame'>\n",
      "RangeIndex: 32434489 entries, 0 to 32434488\n",
      "Data columns (total 4 columns):\n",
      "order_id             int64\n",
      "product_id           int64\n",
      "add_to_cart_order    int64\n",
      "reordered            int64\n",
      "dtypes: int64(4)\n",
      "memory usage: 989.8 MB\n"
     ]
    }
   ],
   "source": [
    "## General informations of the orders data\n",
    "orders.info()"
   ]
  },
  {
   "cell_type": "code",
   "execution_count": 7,
   "metadata": {},
   "outputs": [
    {
     "data": {
      "text/plain": [
       "49677"
      ]
     },
     "execution_count": 7,
     "metadata": {},
     "output_type": "execute_result"
    }
   ],
   "source": [
    "# Number of product types in the orders data\n",
    "len(set(orders.product_id.unique()))"
   ]
  },
  {
   "cell_type": "code",
   "execution_count": 8,
   "metadata": {},
   "outputs": [
    {
     "name": "stdout",
     "output_type": "stream",
     "text": [
      "Total number of orders are:  3214874\n"
     ]
    }
   ],
   "source": [
    "# Number of orders\n",
    "print(\"Total number of orders are: \" , orders['order_id'].nunique())"
   ]
  },
  {
   "cell_type": "markdown",
   "metadata": {},
   "source": [
    "> About the products data"
   ]
  },
  {
   "cell_type": "code",
   "execution_count": 9,
   "metadata": {},
   "outputs": [
    {
     "data": {
      "text/plain": [
       "(49688, 4)"
      ]
     },
     "execution_count": 9,
     "metadata": {},
     "output_type": "execute_result"
    }
   ],
   "source": [
    "## print the dimension of the products data\n",
    "products.shape"
   ]
  },
  {
   "cell_type": "code",
   "execution_count": 10,
   "metadata": {},
   "outputs": [
    {
     "name": "stdout",
     "output_type": "stream",
     "text": [
      "<class 'pandas.core.frame.DataFrame'>\n",
      "RangeIndex: 49688 entries, 0 to 49687\n",
      "Data columns (total 4 columns):\n",
      "product_id       49688 non-null int64\n",
      "product_name     49688 non-null object\n",
      "aisle_id         49688 non-null int64\n",
      "department_id    49688 non-null int64\n",
      "dtypes: int64(3), object(1)\n",
      "memory usage: 1.5+ MB\n"
     ]
    }
   ],
   "source": [
    "## General informations of the products data\n",
    "products.info()"
   ]
  },
  {
   "cell_type": "code",
   "execution_count": 11,
   "metadata": {},
   "outputs": [
    {
     "data": {
      "text/plain": [
       "{1, 2, 3, 4, 5, 6, 7, 8, 9, 10, 11, 12, 13, 14, 15, 16, 17, 18, 19, 20, 21}"
      ]
     },
     "execution_count": 11,
     "metadata": {},
     "output_type": "execute_result"
    }
   ],
   "source": [
    "## Number of department. 21 departments were found.\n",
    "set(products.department_id.unique())"
   ]
  },
  {
   "cell_type": "code",
   "execution_count": 12,
   "metadata": {},
   "outputs": [
    {
     "data": {
      "text/plain": [
       "49688"
      ]
     },
     "execution_count": 12,
     "metadata": {},
     "output_type": "execute_result"
    }
   ],
   "source": [
    "# Number of product types in the products data. \n",
    "len(set(products.product_id.unique()))"
   ]
  },
  {
   "cell_type": "markdown",
   "metadata": {},
   "source": [
    "> The products data has 49688 items. Among them, 49677 items were used in the order data."
   ]
  },
  {
   "cell_type": "code",
   "execution_count": 13,
   "metadata": {},
   "outputs": [
    {
     "data": {
      "text/plain": [
       "True"
      ]
     },
     "execution_count": 13,
     "metadata": {},
     "output_type": "execute_result"
    }
   ],
   "source": [
    "# Checking duplicated values\n",
    "products.product_name.is_unique"
   ]
  },
  {
   "cell_type": "code",
   "execution_count": 14,
   "metadata": {},
   "outputs": [
    {
     "data": {
      "text/plain": [
       "True"
      ]
     },
     "execution_count": 14,
     "metadata": {},
     "output_type": "execute_result"
    }
   ],
   "source": [
    "# Checking duplicated values\n",
    "products.product_id.is_unique"
   ]
  },
  {
   "cell_type": "markdown",
   "metadata": {},
   "source": [
    "> There is no duplicate product name and product id."
   ]
  },
  {
   "cell_type": "markdown",
   "metadata": {},
   "source": [
    "#### C. Descriptive analysis"
   ]
  },
  {
   "cell_type": "markdown",
   "metadata": {},
   "source": [
    "> &nbsp;&nbsp;&nbsp;&nbsp;&nbsp;&nbsp;&nbsp;&nbsp;&nbsp;&nbsp;&nbsp;&nbsp; Attributes of this data have numeric variables. Although Pandas \"describe\" method can provide basic statistics for numeric variables, that doesn't mean the statistics would always provide meaningful results. The \"order_id\" attribute and the \"product_id\" attribute are nominal types. Statistics of these attributes are ineffectual. The \"add_to_cart_order\" attribute is an ordinal type. So the statistics of the \"add_to_cart_order\" attribute don't seem to have a distinctive interest because it is just \"order in which each product was added to cart.\"(https://gist.github.com/jeremystan/c3b39d947d9b88b3ccff3147dbcf6c6b) The \"reordered\" attribute is a binary type. However, the statistics of the \"reordered\" attribute state that about 58% of products were reordered by someone who bought it in the past. In this data, there is no numeric type attribute. "
   ]
  },
  {
   "cell_type": "code",
   "execution_count": 15,
   "metadata": {
    "scrolled": true
   },
   "outputs": [
    {
     "data": {
      "text/html": [
       "<div>\n",
       "<style scoped>\n",
       "    .dataframe tbody tr th:only-of-type {\n",
       "        vertical-align: middle;\n",
       "    }\n",
       "\n",
       "    .dataframe tbody tr th {\n",
       "        vertical-align: top;\n",
       "    }\n",
       "\n",
       "    .dataframe thead th {\n",
       "        text-align: right;\n",
       "    }\n",
       "</style>\n",
       "<table border=\"1\" class=\"dataframe\">\n",
       "  <thead>\n",
       "    <tr style=\"text-align: right;\">\n",
       "      <th></th>\n",
       "      <th>order_id</th>\n",
       "      <th>product_id</th>\n",
       "      <th>add_to_cart_order</th>\n",
       "      <th>reordered</th>\n",
       "    </tr>\n",
       "  </thead>\n",
       "  <tbody>\n",
       "    <tr>\n",
       "      <td>count</td>\n",
       "      <td>3.243449e+07</td>\n",
       "      <td>3.243449e+07</td>\n",
       "      <td>3.243449e+07</td>\n",
       "      <td>3.243449e+07</td>\n",
       "    </tr>\n",
       "    <tr>\n",
       "      <td>mean</td>\n",
       "      <td>1.710749e+06</td>\n",
       "      <td>2.557634e+04</td>\n",
       "      <td>8.351076e+00</td>\n",
       "      <td>5.896975e-01</td>\n",
       "    </tr>\n",
       "    <tr>\n",
       "      <td>std</td>\n",
       "      <td>9.873007e+05</td>\n",
       "      <td>1.409669e+04</td>\n",
       "      <td>7.126671e+00</td>\n",
       "      <td>4.918886e-01</td>\n",
       "    </tr>\n",
       "    <tr>\n",
       "      <td>min</td>\n",
       "      <td>2.000000e+00</td>\n",
       "      <td>1.000000e+00</td>\n",
       "      <td>1.000000e+00</td>\n",
       "      <td>0.000000e+00</td>\n",
       "    </tr>\n",
       "    <tr>\n",
       "      <td>25%</td>\n",
       "      <td>8.559430e+05</td>\n",
       "      <td>1.353000e+04</td>\n",
       "      <td>3.000000e+00</td>\n",
       "      <td>0.000000e+00</td>\n",
       "    </tr>\n",
       "    <tr>\n",
       "      <td>50%</td>\n",
       "      <td>1.711048e+06</td>\n",
       "      <td>2.525600e+04</td>\n",
       "      <td>6.000000e+00</td>\n",
       "      <td>1.000000e+00</td>\n",
       "    </tr>\n",
       "    <tr>\n",
       "      <td>75%</td>\n",
       "      <td>2.565514e+06</td>\n",
       "      <td>3.793500e+04</td>\n",
       "      <td>1.100000e+01</td>\n",
       "      <td>1.000000e+00</td>\n",
       "    </tr>\n",
       "    <tr>\n",
       "      <td>max</td>\n",
       "      <td>3.421083e+06</td>\n",
       "      <td>4.968800e+04</td>\n",
       "      <td>1.450000e+02</td>\n",
       "      <td>1.000000e+00</td>\n",
       "    </tr>\n",
       "  </tbody>\n",
       "</table>\n",
       "</div>"
      ],
      "text/plain": [
       "           order_id    product_id  add_to_cart_order     reordered\n",
       "count  3.243449e+07  3.243449e+07       3.243449e+07  3.243449e+07\n",
       "mean   1.710749e+06  2.557634e+04       8.351076e+00  5.896975e-01\n",
       "std    9.873007e+05  1.409669e+04       7.126671e+00  4.918886e-01\n",
       "min    2.000000e+00  1.000000e+00       1.000000e+00  0.000000e+00\n",
       "25%    8.559430e+05  1.353000e+04       3.000000e+00  0.000000e+00\n",
       "50%    1.711048e+06  2.525600e+04       6.000000e+00  1.000000e+00\n",
       "75%    2.565514e+06  3.793500e+04       1.100000e+01  1.000000e+00\n",
       "max    3.421083e+06  4.968800e+04       1.450000e+02  1.000000e+00"
      ]
     },
     "execution_count": 15,
     "metadata": {},
     "output_type": "execute_result"
    }
   ],
   "source": [
    "orders.describe()"
   ]
  },
  {
   "cell_type": "markdown",
   "metadata": {},
   "source": [
    "> &nbsp;&nbsp;&nbsp;&nbsp;&nbsp;&nbsp;&nbsp;&nbsp;&nbsp;&nbsp;&nbsp;&nbsp;The below NumPy method shows the number of tuples per attribute that has missing values. The data doesn't have a missing value.\n"
   ]
  },
  {
   "cell_type": "code",
   "execution_count": 16,
   "metadata": {},
   "outputs": [
    {
     "name": "stdout",
     "output_type": "stream",
     "text": [
      "order_id             0\n",
      "product_id           0\n",
      "add_to_cart_order    0\n",
      "reordered            0\n",
      "dtype: int64\n"
     ]
    }
   ],
   "source": [
    "print(orders.isna().sum())"
   ]
  },
  {
   "cell_type": "markdown",
   "metadata": {},
   "source": [
    ">  &nbsp;&nbsp;&nbsp;&nbsp;&nbsp;&nbsp;&nbsp;&nbsp;&nbsp;&nbsp;&nbsp;&nbsp;The plot below shows reordered items are about 30% more than single ordered items. The \"reordered\" attribute is a binary type, so the X-axis of the plot has only 0 and 1 values."
   ]
  },
  {
   "cell_type": "code",
   "execution_count": 17,
   "metadata": {},
   "outputs": [
    {
     "data": {
      "text/plain": [
       "<matplotlib.axes._subplots.AxesSubplot at 0x1ab3e198348>"
      ]
     },
     "execution_count": 17,
     "metadata": {},
     "output_type": "execute_result"
    },
    {
     "data": {
      "image/png": "[encoded data removed]",
      "text/plain": [
       "<Figure size 360x288 with 1 Axes>"
      ]
     },
     "metadata": {
      "needs_background": "light"
     },
     "output_type": "display_data"
    }
   ],
   "source": [
    "plt.rcParams[\"figure.figsize\"] = (5,4)\n",
    "plt.rcParams['axes.grid'] = True \n",
    "sns.distplot(orders[\"reordered\"])"
   ]
  },
  {
   "cell_type": "markdown",
   "metadata": {},
   "source": [
    ">  &nbsp;&nbsp;&nbsp;&nbsp;&nbsp;&nbsp;&nbsp;&nbsp;&nbsp;&nbsp;&nbsp;&nbsp;The plots below indicates most buyers buy less than 20 items, and buyers who bought more than about 25 items are distinguished as outliers.\n",
    "\n"
   ]
  },
  {
   "cell_type": "code",
   "execution_count": 18,
   "metadata": {
    "scrolled": true
   },
   "outputs": [
    {
     "data": {
      "text/plain": [
       "<matplotlib.axes._subplots.AxesSubplot at 0x1ab3df0dd48>"
      ]
     },
     "execution_count": 18,
     "metadata": {},
     "output_type": "execute_result"
    },
    {
     "data": {
      "image/png": "[encoded data removed]",
      "text/plain": [
       "<Figure size 360x288 with 1 Axes>"
      ]
     },
     "metadata": {
      "needs_background": "light"
     },
     "output_type": "display_data"
    }
   ],
   "source": [
    "plt.rcParams[\"figure.figsize\"] = (5,4)\n",
    "plt.rcParams['axes.grid'] = True \n",
    "sns.distplot(orders[\"add_to_cart_order\"])"
   ]
  },
  {
   "cell_type": "code",
   "execution_count": 19,
   "metadata": {
    "scrolled": true
   },
   "outputs": [
    {
     "data": {
      "text/plain": [
       "<seaborn.axisgrid.FacetGrid at 0x1ab3dfa3788>"
      ]
     },
     "execution_count": 19,
     "metadata": {},
     "output_type": "execute_result"
    },
    {
     "data": {
      "image/png": "[encoded data removed]",
      "text/plain": [
       "<Figure size 360x360 with 1 Axes>"
      ]
     },
     "metadata": {
      "needs_background": "light"
     },
     "output_type": "display_data"
    }
   ],
   "source": [
    "sns.catplot(data=orders, y='add_to_cart_order', kind='box')"
   ]
  },
  {
   "cell_type": "markdown",
   "metadata": {},
   "source": [
    "#####  - Outlier Detection"
   ]
  },
  {
   "cell_type": "markdown",
   "metadata": {},
   "source": [
    "> &nbsp;&nbsp;&nbsp;&nbsp;&nbsp;&nbsp;&nbsp;&nbsp;&nbsp;&nbsp;&nbsp;&nbsp;Using Z-score, We tried to identify outliers. The below numbers represent Z-scores of the orders data. We set a threshold as 3, which can exclude 0.3% of data."
   ]
  },
  {
   "cell_type": "code",
   "execution_count": 20,
   "metadata": {},
   "outputs": [
    {
     "name": "stdout",
     "output_type": "stream",
     "text": [
      "[[1.73275128 0.53513719 1.03148798 0.83413716]\n",
      " [1.73275128 0.24180589 0.89117001 0.83413716]\n",
      " [1.73275128 1.15270598 0.75085204 1.19884361]\n",
      " ...\n",
      " [1.73233394 1.48803295 0.0492622  1.19884361]\n",
      " [1.73233394 0.05138352 0.09105576 0.83413716]\n",
      " [1.73233394 1.45823872 0.23137373 0.83413716]]\n"
     ]
    }
   ],
   "source": [
    "z = np.abs(stats.zscore(orders))\n",
    "print(z)"
   ]
  },
  {
   "cell_type": "markdown",
   "metadata": {},
   "source": [
    "> &nbsp;&nbsp;&nbsp;&nbsp;&nbsp;&nbsp;&nbsp;&nbsp;&nbsp;&nbsp;&nbsp;&nbsp;The first array of the below arrays represent the list of row numbers. The second array of the below arrays describes the list of corresponding column numbers with a Z-score higher than 3. We could discover only the column numbers 2, which is the \"add_to_cart_order\" attribute, has Outliers."
   ]
  },
  {
   "cell_type": "code",
   "execution_count": 21,
   "metadata": {},
   "outputs": [
    {
     "name": "stdout",
     "output_type": "stream",
     "text": [
      "(array([     956,      957,      958, ..., 32434143, 32434273, 32434274],\n",
      "      dtype=int64), array([2, 2, 2, ..., 2, 2, 2], dtype=int64))\n"
     ]
    }
   ],
   "source": [
    "threshold = 3\n",
    "print(np.where(z > 3))"
   ]
  },
  {
   "cell_type": "code",
   "execution_count": 22,
   "metadata": {},
   "outputs": [
    {
     "data": {
      "text/plain": [
       "{2}"
      ]
     },
     "execution_count": 22,
     "metadata": {},
     "output_type": "execute_result"
    }
   ],
   "source": [
    "set((np.where(z > 3))[1])"
   ]
  },
  {
   "cell_type": "code",
   "execution_count": 23,
   "metadata": {},
   "outputs": [
    {
     "data": {
      "text/plain": [
       "536786"
      ]
     },
     "execution_count": 23,
     "metadata": {},
     "output_type": "execute_result"
    }
   ],
   "source": [
    "# Numbers of outliers\n",
    "len((np.where(z > 3))[0])"
   ]
  },
  {
   "cell_type": "markdown",
   "metadata": {},
   "source": [
    "> &nbsp;&nbsp;&nbsp;&nbsp;&nbsp;&nbsp;&nbsp;&nbsp;&nbsp;&nbsp;&nbsp;&nbsp;As we could expect from the box plot above, many outliers have been detected. However, in this case, it seems that there is no need to distinguish them by outliers because the \"add_to_cart_order\" attribute is an ordinal type."
   ]
  },
  {
   "cell_type": "markdown",
   "metadata": {},
   "source": [
    "#####  - Checking redundancies"
   ]
  },
  {
   "cell_type": "markdown",
   "metadata": {},
   "source": [
    "> &nbsp;&nbsp;&nbsp;&nbsp;&nbsp;&nbsp;&nbsp;&nbsp;&nbsp;&nbsp;&nbsp;&nbsp;We examined the redundancies of the orders data by applying correlation analysis. We applied a heatmap to visualize the correlation coefficients. In the heat map, a more robust red color intends a stronger correlation, and a lighter color indicates a weaker correlation. We couldn't find any strong correlation. These results represent there is no redundancy in attributes."
   ]
  },
  {
   "cell_type": "code",
   "execution_count": 24,
   "metadata": {},
   "outputs": [
    {
     "data": {
      "text/html": [
       "<div>\n",
       "<style scoped>\n",
       "    .dataframe tbody tr th:only-of-type {\n",
       "        vertical-align: middle;\n",
       "    }\n",
       "\n",
       "    .dataframe tbody tr th {\n",
       "        vertical-align: top;\n",
       "    }\n",
       "\n",
       "    .dataframe thead th {\n",
       "        text-align: right;\n",
       "    }\n",
       "</style>\n",
       "<table border=\"1\" class=\"dataframe\">\n",
       "  <thead>\n",
       "    <tr style=\"text-align: right;\">\n",
       "      <th></th>\n",
       "      <th>order_id</th>\n",
       "      <th>product_id</th>\n",
       "      <th>add_to_cart_order</th>\n",
       "      <th>reordered</th>\n",
       "    </tr>\n",
       "  </thead>\n",
       "  <tbody>\n",
       "    <tr>\n",
       "      <td>order_id</td>\n",
       "      <td>1.000000</td>\n",
       "      <td>-0.000082</td>\n",
       "      <td>-0.000320</td>\n",
       "      <td>-0.000253</td>\n",
       "    </tr>\n",
       "    <tr>\n",
       "      <td>product_id</td>\n",
       "      <td>-0.000082</td>\n",
       "      <td>1.000000</td>\n",
       "      <td>0.005529</td>\n",
       "      <td>0.003718</td>\n",
       "    </tr>\n",
       "    <tr>\n",
       "      <td>add_to_cart_order</td>\n",
       "      <td>-0.000320</td>\n",
       "      <td>0.005529</td>\n",
       "      <td>1.000000</td>\n",
       "      <td>-0.133024</td>\n",
       "    </tr>\n",
       "    <tr>\n",
       "      <td>reordered</td>\n",
       "      <td>-0.000253</td>\n",
       "      <td>0.003718</td>\n",
       "      <td>-0.133024</td>\n",
       "      <td>1.000000</td>\n",
       "    </tr>\n",
       "  </tbody>\n",
       "</table>\n",
       "</div>"
      ],
      "text/plain": [
       "                   order_id  product_id  add_to_cart_order  reordered\n",
       "order_id           1.000000   -0.000082          -0.000320  -0.000253\n",
       "product_id        -0.000082    1.000000           0.005529   0.003718\n",
       "add_to_cart_order -0.000320    0.005529           1.000000  -0.133024\n",
       "reordered         -0.000253    0.003718          -0.133024   1.000000"
      ]
     },
     "execution_count": 24,
     "metadata": {},
     "output_type": "execute_result"
    }
   ],
   "source": [
    "pcorr = orders.corr(method='pearson')\n",
    "\n",
    "## Set the maximum number of columns as \"None\" to display all columns\n",
    "pd.set_option('display.max_columns', None)\n",
    "pcorr"
   ]
  },
  {
   "cell_type": "code",
   "execution_count": 25,
   "metadata": {},
   "outputs": [
    {
     "data": {
      "image/png": "[encoded data removed]",
      "text/plain": [
       "<Figure size 360x360 with 2 Axes>"
      ]
     },
     "metadata": {
      "needs_background": "light"
     },
     "output_type": "display_data"
    }
   ],
   "source": [
    "plt.figure(figsize=(5,5))\n",
    "sns.heatmap(pcorr, annot=True, cmap=plt.cm.Reds)\n",
    "plt.show()"
   ]
  },
  {
   "cell_type": "markdown",
   "metadata": {},
   "source": [
    "### Association Rules Mining\n",
    "\n",
    "&nbsp;&nbsp;&nbsp;&nbsp;&nbsp;&nbsp;&nbsp;&nbsp;&nbsp;&nbsp;&nbsp;&nbsp; Association rule mining is a process of analyzing transactional data of orders given by the customers to find relations/ association between two different items. Best example for association rules mining is market basket analysis. Based on the rules and the metrics, the retailers can develop marketing skills to allign the items in the retails stores. These rules could also lead to building a recommender system for online shopping market.\n",
    "\n",
    "&nbsp;&nbsp;&nbsp;&nbsp;&nbsp;&nbsp;&nbsp;&nbsp;&nbsp;&nbsp;&nbsp;&nbsp;There are 3 key metrics that has to be taken into consideration while evaluating the association rules:\n",
    "\n",
    "1. <b>support</b> \n",
    "\n",
    "    Support is defined as the probability of how frequent the items occurs in the dataset.\n",
    "\n",
    "$$ support (A) =  P(A) $$\n",
    "\n",
    "    \n",
    "2. <b>confidence</b>  \n",
    "\n",
    "    Confidence is defined as the conditional probability of event to happen given, an event which already occured prior. Confidence of A⇒B is ratio of support of AUB to that of support of A.\n",
    "    \n",
    "$$ confidence (A⇒B) =  P(B|A) = \\frac{support(AUB)}{support(A)} $$\n",
    "    \n",
    "3. <b>lift</b>  \n",
    "    \n",
    "    Lift of A and B is given as ration of Confidence of A-B to that of support of B.\n",
    "    \n",
    "$$ Lift (A,B) = \\frac{Confidence(A⇒B)}{Support(B)} = \\frac{Support(AUB)}{Support(A)×Support(B)} $$\n",
    "    \n",
    "    In summary, lift can take on the following values:\n",
    "    \n",
    "        * If lift = 1 implies there is no relationship between A and B. \n",
    "          (A and B are independent items and occur together only by chance)\n",
    "      \n",
    "        * If lift > 1 implies that there is a positive relationship between A and B.\n",
    "          (A and B occur together more frequently and are dependent on each other. Higher the lift, more they are dependent)\n",
    "    \n",
    "        * If lift < 1 implies that there is a negative relationship between A and B.\n",
    "          (A and B occur together less frequently though they are dependent on each other.)\n",
    "\n",
    "\n",
    "\n"
   ]
  },
  {
   "cell_type": "code",
   "execution_count": 26,
   "metadata": {},
   "outputs": [],
   "source": [
    "# Returns frequency1 table for each product\n",
    "def freq1_table(orders):\n",
    "    product_freq = dict(orders['product_id'].value_counts())\n",
    "    df = pd.DataFrame(list(product_freq.items()), columns = ['product_id','frequency'])\n",
    "    df['support'] = df['frequency']/orders['order_id'].nunique()\n",
    "    return df"
   ]
  },
  {
   "cell_type": "code",
   "execution_count": 27,
   "metadata": {},
   "outputs": [
    {
     "data": {
      "text/html": [
       "<div>\n",
       "<style scoped>\n",
       "    .dataframe tbody tr th:only-of-type {\n",
       "        vertical-align: middle;\n",
       "    }\n",
       "\n",
       "    .dataframe tbody tr th {\n",
       "        vertical-align: top;\n",
       "    }\n",
       "\n",
       "    .dataframe thead th {\n",
       "        text-align: right;\n",
       "    }\n",
       "</style>\n",
       "<table border=\"1\" class=\"dataframe\">\n",
       "  <thead>\n",
       "    <tr style=\"text-align: right;\">\n",
       "      <th></th>\n",
       "      <th>product_name</th>\n",
       "      <th>frequency</th>\n",
       "      <th>support</th>\n",
       "    </tr>\n",
       "  </thead>\n",
       "  <tbody>\n",
       "    <tr>\n",
       "      <td>0</td>\n",
       "      <td>Banana</td>\n",
       "      <td>472565</td>\n",
       "      <td>0.146993</td>\n",
       "    </tr>\n",
       "    <tr>\n",
       "      <td>1</td>\n",
       "      <td>Bag of Organic Bananas</td>\n",
       "      <td>379450</td>\n",
       "      <td>0.118030</td>\n",
       "    </tr>\n",
       "    <tr>\n",
       "      <td>2</td>\n",
       "      <td>Organic Strawberries</td>\n",
       "      <td>264683</td>\n",
       "      <td>0.082331</td>\n",
       "    </tr>\n",
       "    <tr>\n",
       "      <td>3</td>\n",
       "      <td>Organic Baby Spinach</td>\n",
       "      <td>241921</td>\n",
       "      <td>0.075251</td>\n",
       "    </tr>\n",
       "    <tr>\n",
       "      <td>4</td>\n",
       "      <td>Organic Hass Avocado</td>\n",
       "      <td>213584</td>\n",
       "      <td>0.066436</td>\n",
       "    </tr>\n",
       "  </tbody>\n",
       "</table>\n",
       "</div>"
      ],
      "text/plain": [
       "             product_name  frequency   support\n",
       "0                  Banana     472565  0.146993\n",
       "1  Bag of Organic Bananas     379450  0.118030\n",
       "2    Organic Strawberries     264683  0.082331\n",
       "3    Organic Baby Spinach     241921  0.075251\n",
       "4    Organic Hass Avocado     213584  0.066436"
      ]
     },
     "execution_count": 27,
     "metadata": {},
     "output_type": "execute_result"
    }
   ],
   "source": [
    "frequency1 = freq1_table(orders)\n",
    "# Replace item ID with item name and display\n",
    "frequency1_table = frequency1.merge(products[['product_id','product_name']],  left_on='product_id', right_on='product_id')\n",
    "frequency1_table = frequency1_table.drop(['product_id'], axis = 1)\n",
    "frequency1_table = frequency1_table[['product_name','frequency','support']]\n",
    "frequency1_table.head()"
   ]
  },
  {
   "cell_type": "code",
   "execution_count": 28,
   "metadata": {},
   "outputs": [],
   "source": [
    "# Returns frequency counts for items and item pairs\n",
    "def freq(iterable):\n",
    "    if type(iterable) == pd.core.series.Series:\n",
    "        return iterable.value_counts().rename(\"freq\")\n",
    "    else: \n",
    "        return pd.Series(Counter(iterable)).rename(\"freq\")"
   ]
  },
  {
   "cell_type": "code",
   "execution_count": 29,
   "metadata": {},
   "outputs": [],
   "source": [
    "# Returns number of unique orders\n",
    "def order_count(order_item):\n",
    "    return len(set(order_item.index))                         "
   ]
  },
  {
   "cell_type": "code",
   "execution_count": 30,
   "metadata": {},
   "outputs": [],
   "source": [
    "# Returns generator that yields item pairs, one at a time\n",
    "def get_item_pairs(order_item):\n",
    "    order_item = order_item.reset_index().as_matrix()\n",
    "    for order_id, order_object in groupby(order_item, lambda x: x[0]):\n",
    "        item_list = [item[1] for item in order_object]\n",
    "              \n",
    "        for item_pair in combinations(item_list, 2):\n",
    "            yield item_pair"
   ]
  },
  {
   "cell_type": "code",
   "execution_count": 31,
   "metadata": {},
   "outputs": [],
   "source": [
    "# Returns frequency and support associated with item\n",
    "def merge_item_stats(item_pairs, item_stats):\n",
    "    return (item_pairs\n",
    "                .merge(item_stats.rename(columns={'freq': 'freqA', 'support': 'supportA'}), left_on='item_A', right_index=True)\n",
    "                .merge(item_stats.rename(columns={'freq': 'freqB', 'support': 'supportB'}), left_on='item_B', right_index=True))"
   ]
  },
  {
   "cell_type": "code",
   "execution_count": 32,
   "metadata": {},
   "outputs": [],
   "source": [
    "#Association rules function\n",
    "def association_rules(order_item, min_support):\n",
    "\n",
    "    # Calculate item frequency and support\n",
    "    item_stats = freq(order_item).to_frame(\"freq\")\n",
    "    item_stats['support'] = item_stats['freq'] / order_count(order_item) * 100\n",
    "\n",
    "\n",
    "    # Filter from order_item items below min support \n",
    "    qualifying_items = item_stats[item_stats['support'] >= min_support].index\n",
    "    order_item = order_item[order_item.isin(qualifying_items)]\n",
    "\n",
    "    # Filter from order_item orders with less than 2 items\n",
    "    order_size = freq(order_item.index)\n",
    "    qualifying_orders = order_size[order_size >= 2].index\n",
    "    order_item = order_item[order_item.index.isin(qualifying_orders)]\n",
    "\n",
    "    # Recalculate item frequency and support\n",
    "    item_stats = freq(order_item).to_frame(\"freq\")\n",
    "    item_stats['support'] = item_stats['freq'] / order_count(order_item) * 100\n",
    "\n",
    "\n",
    "    # Get item pairs generator\n",
    "    item_pair_gen = get_item_pairs(order_item)\n",
    "\n",
    "\n",
    "    # Calculate item pair frequency and support\n",
    "    item_pairs = freq(item_pair_gen).to_frame(\"freqAB\")\n",
    "    item_pairs['supportAB'] = item_pairs['freqAB'] / len(qualifying_orders) * 100\n",
    "\n",
    "    # Filter from item_pairs those below min support\n",
    "    item_pairs = item_pairs[item_pairs['supportAB'] >= min_support]\n",
    "\n",
    "    # Create table of association rules and compute relevant metrics\n",
    "    item_pairs = item_pairs.reset_index().rename(columns={'level_0': 'item_A', 'level_1': 'item_B'})\n",
    "    item_pairs = merge_item_stats(item_pairs, item_stats)\n",
    "    \n",
    "    item_pairs['confidenceAtoB'] = item_pairs['supportAB'] / item_pairs['supportA']\n",
    "    item_pairs['confidenceBtoA'] = item_pairs['supportAB'] / item_pairs['supportB']\n",
    "    item_pairs['lift'] = item_pairs['supportAB'] / (item_pairs['supportA'] * item_pairs['supportB'])\n",
    "    \n",
    "    \n",
    "    # Return association rules sorted by lift in descending order\n",
    "    return item_pairs.sort_values('lift', ascending=False)"
   ]
  },
  {
   "cell_type": "code",
   "execution_count": 33,
   "metadata": {},
   "outputs": [],
   "source": [
    "# Returns name associated with item\n",
    "def merge_item_name(rules, item_name):\n",
    "    columns = ['itemA','itemB','freqAB','supportAB','freqA','supportA','freqB','supportB', \n",
    "               'confidenceAtoB','confidenceBtoA','lift']\n",
    "    rules = (rules\n",
    "                .merge(item_name.rename(columns={'item_name': 'itemA'}), left_on='item_A', right_on='item_id')\n",
    "                .merge(item_name.rename(columns={'item_name': 'itemB'}), left_on='item_B', right_on='item_id'))\n",
    "    return rules[columns]"
   ]
  },
  {
   "cell_type": "code",
   "execution_count": 34,
   "metadata": {},
   "outputs": [],
   "source": [
    "# Convert from DataFrame to a Series, with order_id as index and item_id as value\n",
    "orders_products = orders.set_index('order_id')['product_id'].rename('item_id')"
   ]
  },
  {
   "cell_type": "code",
   "execution_count": 35,
   "metadata": {},
   "outputs": [
    {
     "name": "stderr",
     "output_type": "stream",
     "text": [
      "C:\\Users\\12678\\Anaconda3\\lib\\site-packages\\ipykernel_launcher.py:3: FutureWarning: Method .as_matrix will be removed in a future version. Use .values instead.\n",
      "  This is separate from the ipykernel package so we can avoid doing imports until\n"
     ]
    },
    {
     "name": "stdout",
     "output_type": "stream",
     "text": [
      "Wall time: 9min 31s\n"
     ]
    }
   ],
   "source": [
    "%%time\n",
    "rules = association_rules(orders_products, 0.01)  "
   ]
  },
  {
   "cell_type": "code",
   "execution_count": 36,
   "metadata": {},
   "outputs": [
    {
     "data": {
      "text/html": [
       "<div>\n",
       "<style scoped>\n",
       "    .dataframe tbody tr th:only-of-type {\n",
       "        vertical-align: middle;\n",
       "    }\n",
       "\n",
       "    .dataframe tbody tr th {\n",
       "        vertical-align: top;\n",
       "    }\n",
       "\n",
       "    .dataframe thead th {\n",
       "        text-align: right;\n",
       "    }\n",
       "</style>\n",
       "<table border=\"1\" class=\"dataframe\">\n",
       "  <thead>\n",
       "    <tr style=\"text-align: right;\">\n",
       "      <th></th>\n",
       "      <th>itemA</th>\n",
       "      <th>itemB</th>\n",
       "      <th>freqAB</th>\n",
       "      <th>supportAB</th>\n",
       "      <th>freqA</th>\n",
       "      <th>supportA</th>\n",
       "      <th>freqB</th>\n",
       "      <th>supportB</th>\n",
       "      <th>confidenceAtoB</th>\n",
       "      <th>confidenceBtoA</th>\n",
       "      <th>lift</th>\n",
       "    </tr>\n",
       "  </thead>\n",
       "  <tbody>\n",
       "    <tr>\n",
       "      <td>0</td>\n",
       "      <td>Organic Strawberry Chia Lowfat 2% Cottage Cheese</td>\n",
       "      <td>Organic Cottage Cheese Blueberry Acai Chia</td>\n",
       "      <td>306</td>\n",
       "      <td>0.010155</td>\n",
       "      <td>1163</td>\n",
       "      <td>0.038595</td>\n",
       "      <td>839</td>\n",
       "      <td>0.027843</td>\n",
       "      <td>0.263113</td>\n",
       "      <td>0.364720</td>\n",
       "      <td>9.449868</td>\n",
       "    </tr>\n",
       "    <tr>\n",
       "      <td>1</td>\n",
       "      <td>Grain Free Chicken Formula Cat Food</td>\n",
       "      <td>Grain Free Turkey Formula Cat Food</td>\n",
       "      <td>318</td>\n",
       "      <td>0.010553</td>\n",
       "      <td>1809</td>\n",
       "      <td>0.060033</td>\n",
       "      <td>879</td>\n",
       "      <td>0.029170</td>\n",
       "      <td>0.175788</td>\n",
       "      <td>0.361775</td>\n",
       "      <td>6.026229</td>\n",
       "    </tr>\n",
       "    <tr>\n",
       "      <td>3</td>\n",
       "      <td>Organic Fruit Yogurt Smoothie Mixed Berry</td>\n",
       "      <td>Apple Blueberry Fruit Yogurt Smoothie</td>\n",
       "      <td>349</td>\n",
       "      <td>0.011582</td>\n",
       "      <td>1518</td>\n",
       "      <td>0.050376</td>\n",
       "      <td>1249</td>\n",
       "      <td>0.041449</td>\n",
       "      <td>0.229908</td>\n",
       "      <td>0.279424</td>\n",
       "      <td>5.546732</td>\n",
       "    </tr>\n",
       "    <tr>\n",
       "      <td>9</td>\n",
       "      <td>Nonfat Strawberry With Fruit On The Bottom Gre...</td>\n",
       "      <td>0% Greek, Blueberry on the Bottom Yogurt</td>\n",
       "      <td>409</td>\n",
       "      <td>0.013573</td>\n",
       "      <td>1666</td>\n",
       "      <td>0.055288</td>\n",
       "      <td>1391</td>\n",
       "      <td>0.046162</td>\n",
       "      <td>0.245498</td>\n",
       "      <td>0.294033</td>\n",
       "      <td>5.318230</td>\n",
       "    </tr>\n",
       "    <tr>\n",
       "      <td>10</td>\n",
       "      <td>Organic Grapefruit Ginger Sparkling Yerba Mate</td>\n",
       "      <td>Cranberry Pomegranate Sparkling Yerba Mate</td>\n",
       "      <td>351</td>\n",
       "      <td>0.011648</td>\n",
       "      <td>1731</td>\n",
       "      <td>0.057445</td>\n",
       "      <td>1149</td>\n",
       "      <td>0.038131</td>\n",
       "      <td>0.202773</td>\n",
       "      <td>0.305483</td>\n",
       "      <td>5.317849</td>\n",
       "    </tr>\n",
       "  </tbody>\n",
       "</table>\n",
       "</div>"
      ],
      "text/plain": [
       "                                                itemA  \\\n",
       "0    Organic Strawberry Chia Lowfat 2% Cottage Cheese   \n",
       "1                 Grain Free Chicken Formula Cat Food   \n",
       "3           Organic Fruit Yogurt Smoothie Mixed Berry   \n",
       "9   Nonfat Strawberry With Fruit On The Bottom Gre...   \n",
       "10     Organic Grapefruit Ginger Sparkling Yerba Mate   \n",
       "\n",
       "                                         itemB  freqAB  supportAB  freqA  \\\n",
       "0   Organic Cottage Cheese Blueberry Acai Chia     306   0.010155   1163   \n",
       "1           Grain Free Turkey Formula Cat Food     318   0.010553   1809   \n",
       "3        Apple Blueberry Fruit Yogurt Smoothie     349   0.011582   1518   \n",
       "9     0% Greek, Blueberry on the Bottom Yogurt     409   0.013573   1666   \n",
       "10  Cranberry Pomegranate Sparkling Yerba Mate     351   0.011648   1731   \n",
       "\n",
       "    supportA  freqB  supportB  confidenceAtoB  confidenceBtoA      lift  \n",
       "0   0.038595    839  0.027843        0.263113        0.364720  9.449868  \n",
       "1   0.060033    879  0.029170        0.175788        0.361775  6.026229  \n",
       "3   0.050376   1249  0.041449        0.229908        0.279424  5.546732  \n",
       "9   0.055288   1391  0.046162        0.245498        0.294033  5.318230  \n",
       "10  0.057445   1149  0.038131        0.202773        0.305483  5.317849  "
      ]
     },
     "execution_count": 36,
     "metadata": {},
     "output_type": "execute_result"
    }
   ],
   "source": [
    "# Replace item ID with item name and display association rules\n",
    "item_name   = products.rename(columns={'product_id':'item_id', 'product_name':'item_name'})\n",
    "rules_final = merge_item_name(rules, item_name).sort_values('lift', ascending=False)\n",
    "rules_final.head()"
   ]
  },
  {
   "cell_type": "code",
   "execution_count": 37,
   "metadata": {},
   "outputs": [
    {
     "data": {
      "image/png": "[encoded data removed]",
      "text/plain": [
       "<Figure size 1152x576 with 1 Axes>"
      ]
     },
     "metadata": {
      "needs_background": "light"
     },
     "output_type": "display_data"
    }
   ],
   "source": [
    "#Scattor plot for confidenceAtoB vs confidenceBtoA\n",
    "plt.figure(figsize=(16,8))\n",
    "plt.scatter(rules_final['confidenceAtoB'], rules_final['confidenceBtoA'], alpha=0.7)\n",
    "plt.xlabel('confidenceAtoB')\n",
    "plt.ylabel('confidenceBtoA')\n",
    "plt.title('confidenceAtoB vs confidenceBtoA')\n",
    "plt.show()"
   ]
  },
  {
   "cell_type": "code",
   "execution_count": 38,
   "metadata": {},
   "outputs": [
    {
     "data": {
      "text/html": [
       "<div>\n",
       "<style scoped>\n",
       "    .dataframe tbody tr th:only-of-type {\n",
       "        vertical-align: middle;\n",
       "    }\n",
       "\n",
       "    .dataframe tbody tr th {\n",
       "        vertical-align: top;\n",
       "    }\n",
       "\n",
       "    .dataframe thead th {\n",
       "        text-align: right;\n",
       "    }\n",
       "</style>\n",
       "<table border=\"1\" class=\"dataframe\">\n",
       "  <thead>\n",
       "    <tr style=\"text-align: right;\">\n",
       "      <th></th>\n",
       "      <th>itemA</th>\n",
       "      <th>itemB</th>\n",
       "      <th>freqAB</th>\n",
       "      <th>supportAB</th>\n",
       "      <th>freqA</th>\n",
       "      <th>supportA</th>\n",
       "      <th>freqB</th>\n",
       "      <th>supportB</th>\n",
       "      <th>confidenceAtoB</th>\n",
       "      <th>confidenceBtoA</th>\n",
       "      <th>lift</th>\n",
       "    </tr>\n",
       "  </thead>\n",
       "  <tbody>\n",
       "    <tr>\n",
       "      <td>0</td>\n",
       "      <td>Organic Strawberry Chia Lowfat 2% Cottage Cheese</td>\n",
       "      <td>Organic Cottage Cheese Blueberry Acai Chia</td>\n",
       "      <td>306</td>\n",
       "      <td>0.010155</td>\n",
       "      <td>1163</td>\n",
       "      <td>0.038595</td>\n",
       "      <td>839</td>\n",
       "      <td>0.027843</td>\n",
       "      <td>0.263113</td>\n",
       "      <td>0.364720</td>\n",
       "      <td>9.449868</td>\n",
       "    </tr>\n",
       "    <tr>\n",
       "      <td>1</td>\n",
       "      <td>Grain Free Chicken Formula Cat Food</td>\n",
       "      <td>Grain Free Turkey Formula Cat Food</td>\n",
       "      <td>318</td>\n",
       "      <td>0.010553</td>\n",
       "      <td>1809</td>\n",
       "      <td>0.060033</td>\n",
       "      <td>879</td>\n",
       "      <td>0.029170</td>\n",
       "      <td>0.175788</td>\n",
       "      <td>0.361775</td>\n",
       "      <td>6.026229</td>\n",
       "    </tr>\n",
       "    <tr>\n",
       "      <td>3</td>\n",
       "      <td>Organic Fruit Yogurt Smoothie Mixed Berry</td>\n",
       "      <td>Apple Blueberry Fruit Yogurt Smoothie</td>\n",
       "      <td>349</td>\n",
       "      <td>0.011582</td>\n",
       "      <td>1518</td>\n",
       "      <td>0.050376</td>\n",
       "      <td>1249</td>\n",
       "      <td>0.041449</td>\n",
       "      <td>0.229908</td>\n",
       "      <td>0.279424</td>\n",
       "      <td>5.546732</td>\n",
       "    </tr>\n",
       "    <tr>\n",
       "      <td>9</td>\n",
       "      <td>Nonfat Strawberry With Fruit On The Bottom Gre...</td>\n",
       "      <td>0% Greek, Blueberry on the Bottom Yogurt</td>\n",
       "      <td>409</td>\n",
       "      <td>0.013573</td>\n",
       "      <td>1666</td>\n",
       "      <td>0.055288</td>\n",
       "      <td>1391</td>\n",
       "      <td>0.046162</td>\n",
       "      <td>0.245498</td>\n",
       "      <td>0.294033</td>\n",
       "      <td>5.318230</td>\n",
       "    </tr>\n",
       "    <tr>\n",
       "      <td>10</td>\n",
       "      <td>Organic Grapefruit Ginger Sparkling Yerba Mate</td>\n",
       "      <td>Cranberry Pomegranate Sparkling Yerba Mate</td>\n",
       "      <td>351</td>\n",
       "      <td>0.011648</td>\n",
       "      <td>1731</td>\n",
       "      <td>0.057445</td>\n",
       "      <td>1149</td>\n",
       "      <td>0.038131</td>\n",
       "      <td>0.202773</td>\n",
       "      <td>0.305483</td>\n",
       "      <td>5.317849</td>\n",
       "    </tr>\n",
       "    <tr>\n",
       "      <td>...</td>\n",
       "      <td>...</td>\n",
       "      <td>...</td>\n",
       "      <td>...</td>\n",
       "      <td>...</td>\n",
       "      <td>...</td>\n",
       "      <td>...</td>\n",
       "      <td>...</td>\n",
       "      <td>...</td>\n",
       "      <td>...</td>\n",
       "      <td>...</td>\n",
       "      <td>...</td>\n",
       "    </tr>\n",
       "    <tr>\n",
       "      <td>4794</td>\n",
       "      <td>Organic Stage 4 Spinach Mango &amp; Pear Baby Food</td>\n",
       "      <td>Sweeet Potato, Apple, Carrot &amp; Cinnamon Organi...</td>\n",
       "      <td>468</td>\n",
       "      <td>0.015531</td>\n",
       "      <td>4009</td>\n",
       "      <td>0.133042</td>\n",
       "      <td>3445</td>\n",
       "      <td>0.114326</td>\n",
       "      <td>0.116737</td>\n",
       "      <td>0.135849</td>\n",
       "      <td>1.021096</td>\n",
       "    </tr>\n",
       "    <tr>\n",
       "      <td>5858</td>\n",
       "      <td>Organic Whole Milk Strawberry Beet Berry Yogur...</td>\n",
       "      <td>Blueberry Whole Milk Yogurt Pouch</td>\n",
       "      <td>1040</td>\n",
       "      <td>0.034513</td>\n",
       "      <td>6272</td>\n",
       "      <td>0.208142</td>\n",
       "      <td>4917</td>\n",
       "      <td>0.163175</td>\n",
       "      <td>0.165816</td>\n",
       "      <td>0.211511</td>\n",
       "      <td>1.016186</td>\n",
       "    </tr>\n",
       "    <tr>\n",
       "      <td>4831</td>\n",
       "      <td>Stage 1 Apples Sweet Potatoes Pumpkin &amp; Bluebe...</td>\n",
       "      <td>Stage 1 Apples &amp; Strawberries Organic Pureed B...</td>\n",
       "      <td>605</td>\n",
       "      <td>0.020077</td>\n",
       "      <td>5577</td>\n",
       "      <td>0.185078</td>\n",
       "      <td>3218</td>\n",
       "      <td>0.106792</td>\n",
       "      <td>0.108481</td>\n",
       "      <td>0.188005</td>\n",
       "      <td>1.015815</td>\n",
       "    </tr>\n",
       "    <tr>\n",
       "      <td>8222</td>\n",
       "      <td>Organic Whole Milk Strawberry Beet Berry Yogur...</td>\n",
       "      <td>Yotoddler Organic Pear Spinach Mango Yogurt</td>\n",
       "      <td>1290</td>\n",
       "      <td>0.042810</td>\n",
       "      <td>6272</td>\n",
       "      <td>0.208142</td>\n",
       "      <td>6121</td>\n",
       "      <td>0.203131</td>\n",
       "      <td>0.205676</td>\n",
       "      <td>0.210750</td>\n",
       "      <td>1.012528</td>\n",
       "    </tr>\n",
       "    <tr>\n",
       "      <td>5101</td>\n",
       "      <td>Organic 4 Months Butternut Squash Carrots Appl...</td>\n",
       "      <td>Stage 1 Apples Sweet Potatoes Pumpkin &amp; Bluebe...</td>\n",
       "      <td>601</td>\n",
       "      <td>0.019945</td>\n",
       "      <td>3237</td>\n",
       "      <td>0.107423</td>\n",
       "      <td>5577</td>\n",
       "      <td>0.185078</td>\n",
       "      <td>0.185666</td>\n",
       "      <td>0.107764</td>\n",
       "      <td>1.003176</td>\n",
       "    </tr>\n",
       "  </tbody>\n",
       "</table>\n",
       "<p>208 rows × 11 columns</p>\n",
       "</div>"
      ],
      "text/plain": [
       "                                                  itemA  \\\n",
       "0      Organic Strawberry Chia Lowfat 2% Cottage Cheese   \n",
       "1                   Grain Free Chicken Formula Cat Food   \n",
       "3             Organic Fruit Yogurt Smoothie Mixed Berry   \n",
       "9     Nonfat Strawberry With Fruit On The Bottom Gre...   \n",
       "10       Organic Grapefruit Ginger Sparkling Yerba Mate   \n",
       "...                                                 ...   \n",
       "4794     Organic Stage 4 Spinach Mango & Pear Baby Food   \n",
       "5858  Organic Whole Milk Strawberry Beet Berry Yogur...   \n",
       "4831  Stage 1 Apples Sweet Potatoes Pumpkin & Bluebe...   \n",
       "8222  Organic Whole Milk Strawberry Beet Berry Yogur...   \n",
       "5101  Organic 4 Months Butternut Squash Carrots Appl...   \n",
       "\n",
       "                                                  itemB  freqAB  supportAB  \\\n",
       "0            Organic Cottage Cheese Blueberry Acai Chia     306   0.010155   \n",
       "1                    Grain Free Turkey Formula Cat Food     318   0.010553   \n",
       "3                 Apple Blueberry Fruit Yogurt Smoothie     349   0.011582   \n",
       "9              0% Greek, Blueberry on the Bottom Yogurt     409   0.013573   \n",
       "10           Cranberry Pomegranate Sparkling Yerba Mate     351   0.011648   \n",
       "...                                                 ...     ...        ...   \n",
       "4794  Sweeet Potato, Apple, Carrot & Cinnamon Organi...     468   0.015531   \n",
       "5858                  Blueberry Whole Milk Yogurt Pouch    1040   0.034513   \n",
       "4831  Stage 1 Apples & Strawberries Organic Pureed B...     605   0.020077   \n",
       "8222        Yotoddler Organic Pear Spinach Mango Yogurt    1290   0.042810   \n",
       "5101  Stage 1 Apples Sweet Potatoes Pumpkin & Bluebe...     601   0.019945   \n",
       "\n",
       "      freqA  supportA  freqB  supportB  confidenceAtoB  confidenceBtoA  \\\n",
       "0      1163  0.038595    839  0.027843        0.263113        0.364720   \n",
       "1      1809  0.060033    879  0.029170        0.175788        0.361775   \n",
       "3      1518  0.050376   1249  0.041449        0.229908        0.279424   \n",
       "9      1666  0.055288   1391  0.046162        0.245498        0.294033   \n",
       "10     1731  0.057445   1149  0.038131        0.202773        0.305483   \n",
       "...     ...       ...    ...       ...             ...             ...   \n",
       "4794   4009  0.133042   3445  0.114326        0.116737        0.135849   \n",
       "5858   6272  0.208142   4917  0.163175        0.165816        0.211511   \n",
       "4831   5577  0.185078   3218  0.106792        0.108481        0.188005   \n",
       "8222   6272  0.208142   6121  0.203131        0.205676        0.210750   \n",
       "5101   3237  0.107423   5577  0.185078        0.185666        0.107764   \n",
       "\n",
       "          lift  \n",
       "0     9.449868  \n",
       "1     6.026229  \n",
       "3     5.546732  \n",
       "9     5.318230  \n",
       "10    5.317849  \n",
       "...        ...  \n",
       "4794  1.021096  \n",
       "5858  1.016186  \n",
       "4831  1.015815  \n",
       "8222  1.012528  \n",
       "5101  1.003176  \n",
       "\n",
       "[208 rows x 11 columns]"
      ]
     },
     "execution_count": 38,
     "metadata": {},
     "output_type": "execute_result"
    }
   ],
   "source": [
    "rules_final[rules_final['lift'] > 1]"
   ]
  },
  {
   "cell_type": "markdown",
   "metadata": {},
   "source": [
    "### Conclusion:\n",
    "\n",
    "&nbsp;&nbsp;&nbsp;&nbsp;&nbsp;&nbsp;&nbsp;&nbsp;&nbsp;&nbsp;&nbsp;&nbsp; As per the output obtained in the association rule mining, we could observe that the top associations are turned out to be as expected, similar items with different flavor are being purchased together(e.g., Organic Strawberry Chia Lowfat 2% Cottage Cheese with Organic Cottage Cheese Blueberry Acai Chia, Chicken Cat Food with Turkey Cat Food, etc.). With these association rules obtained, Instacart could recommend the 2nd item to users who have purchased the 1st item based on high lift value and confidence. The items which have lift value more than one/ positive relationship could be recommended to users as well as they could be aligned together in the display of orders, which would increase the sales of retailers.\n",
    "\n",
    "&nbsp;&nbsp;&nbsp;&nbsp;&nbsp;&nbsp;&nbsp;&nbsp;&nbsp;&nbsp;&nbsp;&nbsp;__Our python generated apriori algorithm as given the result within 10min for over 30 million instances of data, which would generate rules for over 45000 products. This is much faster when compared to the result of MLxtend Apriori algorithm, which gave us Memory error while trying to obtain the rules.__"
   ]
  },
  {
   "cell_type": "markdown",
   "metadata": {},
   "source": [
    "### Future work:\n",
    "\n",
    "&nbsp;&nbsp;&nbsp;&nbsp;&nbsp;&nbsp;&nbsp;&nbsp;&nbsp;&nbsp;&nbsp;&nbsp;Further to our analysis, there is a possibility of finding the rules with respect to departments and recommendations could be made for each department.\n",
    "\n",
    "&nbsp;&nbsp;&nbsp;&nbsp;&nbsp;&nbsp;&nbsp;&nbsp;&nbsp;&nbsp;&nbsp;&nbsp;There are many products with similar names and are of a different brand. We could also combine all the similar name products and find out the rules for those products with other departmental products. This would reduce the redundancy in the number of products.\n",
    "\n",
    "\n",
    "&nbsp;&nbsp;&nbsp;&nbsp;&nbsp;&nbsp;&nbsp;&nbsp;&nbsp;&nbsp;&nbsp;&nbsp;Further to the association rule mining, we could also proceed with predictions on items that users might order. There are different approaches in predictions from which we could choose collaborative and content-based filtering in predicting the items which the user might order in the future.\n",
    "\n",
    "&nbsp;&nbsp;&nbsp;&nbsp;&nbsp;&nbsp;&nbsp;&nbsp;&nbsp;&nbsp;&nbsp;&nbsp;The algorithm we have written is suitable for 2 item combinations, which could be extended to 3 or 4 frequency itemsets in the future."
   ]
  },
  {
   "cell_type": "code",
   "execution_count": null,
   "metadata": {},
   "outputs": [],
   "source": []
  }
 ],
 "metadata": {
  "kernelspec": {
   "display_name": "Python 3",
   "language": "python",
   "name": "python3"
  },
  "language_info": {
   "codemirror_mode": {
    "name": "ipython",
    "version": 3
   },
   "file_extension": ".py",
   "mimetype": "text/x-python",
   "name": "python",
   "nbconvert_exporter": "python",
   "pygments_lexer": "ipython3",
   "version": "3.7.6"
  }
 },
 "nbformat": 4,
 "nbformat_minor": 4
}
